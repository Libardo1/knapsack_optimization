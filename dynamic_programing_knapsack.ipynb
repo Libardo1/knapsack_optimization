{
 "cells": [
  {
   "cell_type": "markdown",
   "metadata": {},
   "source": [
    "# Dynamic Programming: Knapsack Optimization"
   ]
  },
  {
   "cell_type": "markdown",
   "metadata": {},
   "source": [
    "One of the quintessential programs in discrete optimization is the [knapsack problem](https://en.wikipedia.org/wiki/Knapsack_problem). The premise is simple. Given a knapsack with fixed capacity and a set of `n` items with associated values and weights:\n",
    "\n",
    "1. What is the maximum total value we can fit in the knapsack\n",
    "2. Which items do we put in it to get the maximum total value in the knapsack?\n",
    "\n",
    "In this post, I'll walk through a standard dynamic programming solution to this problem. "
   ]
  },
  {
   "cell_type": "markdown",
   "metadata": {},
   "source": [
    "# What is Dynamic Programming?"
   ]
  },
  {
   "cell_type": "markdown",
   "metadata": {},
   "source": [
    "According to wikipedia, [dynamic programming](https://en.wikipedia.org/wiki/Dynamic_programming) \"is a method for solving a complex problem by breaking it down into a collection of simpler subproblems, solving each of those subproblems just once, and storing their solutions.\"\n",
    "\n",
    "So, how do we solve the knapsack problem? By breaking it down into simpler subproblems, solving them, and storing their solutions in a table!"
   ]
  },
  {
   "cell_type": "markdown",
   "metadata": {},
   "source": [
    "In our case, we'll create a table with columns representing items and rows representing knapsack capacities. We'll fill in the table iteratively with the maximum total value for different combinations of capacity and items, and then use the table to find the optimal solution."
   ]
  },
  {
   "cell_type": "markdown",
   "metadata": {},
   "source": [
    "# Why Do We Need Dynamic Programming?"
   ]
  },
  {
   "cell_type": "markdown",
   "metadata": {},
   "source": [
    "We need dynamic programming because the knapsack problem has exponential problem complexity. In this case, we have a complexity of O(2<sup>n</sup>). \n",
    "\n",
    "1. 1 item  --> 1 possible knapsack to evaluate.\n",
    "2. 2 items --> 3 possible knapsacks to evaluate.\n",
    "3. 3 items --> 7 possible knapsacks to evaluate.\n",
    "4. 4 items --> 15 possible knapsacks to evaluate.\n",
    "5. ...\n",
    "6. n items --> 2<sup>n</sup>-1 knapsacks to evaluate.\n",
    "\n",
    "Because of this, we quickly lose any ability to check every possible knapsack as the number of items grows. Dynamic programming provides a solution with complexity of O(n * capacity), where n is the number of items and capacity is the knapsack capacity. This scales **significantly** better to larger numbers of items, which us to solve very large optimization problems such as resource allocation."
   ]
  },
  {
   "cell_type": "markdown",
   "metadata": {},
   "source": [
    "Okay, this is pretty abstract. Let's dive in and make it more clear."
   ]
  },
  {
   "cell_type": "markdown",
   "metadata": {},
   "source": [
    "# Setting up the Problem"
   ]
  },
  {
   "cell_type": "markdown",
   "metadata": {},
   "source": [
    "First, I'll define a list of tuples containing values and weights for items. Then I'll define a variable capacity which sets the weight limit for the knapsack. I'll need to keep track of the number items from which I can choose, too."
   ]
  },
  {
   "cell_type": "code",
   "execution_count": 86,
   "metadata": {
    "collapsed": true
   },
   "outputs": [],
   "source": [
    "value_weight_list = [(8, 4), (4, 3), (10, 5), (15, 8)]\n",
    "capacity = 11\n",
    "num_items = len(value_weight_list)"
   ]
  },
  {
   "cell_type": "markdown",
   "metadata": {},
   "source": [
    "Great. Now I need to define a blank table to fill in. Based on what I said earlier, the table should have `num_items` number of columns and `capacity` number of rows. However, to simplify the programming logic, I'll actually pad the table with an extra row and column. It'll be clear why this helps when I walk through the code.\n",
    "\n",
    "I'll also define an empty 3-dimensional array `intermediate_tables_array` which I'll use to store every different stages of the table as I fill it in element by element. This will make the dynamic programming process more clear."
   ]
  },
  {
   "cell_type": "code",
   "execution_count": 264,
   "metadata": {
    "collapsed": false,
    "scrolled": false
   },
   "outputs": [],
   "source": [
    "import numpy as np\n",
    "table = np.pad(np.zeros((capacity, num_items)), (0,1), 'constant')\n",
    "intermediate_tables_array = np.empty((capacity*num_items, capacity+1, num_items+1))"
   ]
  },
  {
   "cell_type": "markdown",
   "metadata": {},
   "source": [
    "Time to actually solve the problem (fill in the table)."
   ]
  },
  {
   "cell_type": "code",
   "execution_count": 265,
   "metadata": {
    "collapsed": false,
    "scrolled": false
   },
   "outputs": [
    {
     "data": {
      "text/plain": [
       "array([[  0.,   0.,   0.,   0.,   0.],\n",
       "       [  0.,   0.,   0.,   0.,   0.],\n",
       "       [  0.,   0.,   0.,   0.,   0.],\n",
       "       [  0.,   0.,   4.,   4.,   4.],\n",
       "       [  0.,   8.,   8.,   8.,   8.],\n",
       "       [  0.,   8.,   8.,  10.,  10.],\n",
       "       [  0.,   8.,   8.,  10.,  10.],\n",
       "       [  0.,   8.,  12.,  12.,  12.],\n",
       "       [  0.,   8.,  12.,  14.,  15.],\n",
       "       [  0.,   8.,  12.,  18.,  18.],\n",
       "       [  0.,   8.,  12.,  18.,  18.],\n",
       "       [  0.,   8.,  12.,  18.,  19.]])"
      ]
     },
     "execution_count": 265,
     "metadata": {},
     "output_type": "execute_result"
    }
   ],
   "source": [
    "counter = 0\n",
    "for j in xrange(1, num_items + 1):\n",
    "    # j is the column in the table\n",
    "    value = value_weight_list[j-1][0]\n",
    "    weight = value_weight_list[j-1][1]\n",
    "    \n",
    "    for i in xrange(1, capacity + 1):\n",
    "        # i is the row in the table\n",
    "        if weight > i:\n",
    "            table[i,j] = table[i,j-1]\n",
    "        else:\n",
    "            table[i,j] = max(table[i,j-1], table[i-weight, j-1] + value)\n",
    "        \n",
    "        # not part of the solution (using for illustrative purposes)\n",
    "        intermediate_tables[counter, :, :] = table\n",
    "        counter += 1\n",
    "\n",
    "table"
   ]
  },
  {
   "cell_type": "markdown",
   "metadata": {},
   "source": [
    "Okay. How did we actually populate this optimal value table. Let's break down exactly what the code does."
   ]
  },
  {
   "cell_type": "markdown",
   "metadata": {},
   "source": [
    "First, we create a loop to go through each column of the table (each column represents an item in our knapsack). In our case, we want to iterate from `1` to the `number of items + 1` times since we padded our array for easier calculation."
   ]
  },
  {
   "cell_type": "code",
   "execution_count": 17,
   "metadata": {
    "collapsed": true
   },
   "outputs": [],
   "source": [
    "for j in xrange(1, num_items + 1):\n",
    "    value = value_weight_list[j-1][0]\n",
    "    weight = value_weight_list[j-1][1]"
   ]
  },
  {
   "cell_type": "markdown",
   "metadata": {},
   "source": [
    "In the loop, I use `j` to loop through every column in our table (the number of items we can choose from). I get the `j-1` item from our weight/value list since we're starting the loop from column index 1 (but I want to start with item 0 -- the first item).\n",
    "\n",
    "Okay, what's next."
   ]
  },
  {
   "cell_type": "code",
   "execution_count": 246,
   "metadata": {
    "collapsed": false
   },
   "outputs": [],
   "source": [
    "for i in xrange(1, capacity + 1):"
   ]
  },
  {
   "cell_type": "markdown",
   "metadata": {},
   "source": [
    "Now I'm looping through every row in our table (starting from 1) for each column. Similar to the first loop, each row represents a different amount of capacity (row 1 represents capacity = 1, row 2 represents capacity = 2, and so on until the final row which represents the variable `capacity`). This is why I padded the table with an extra row and column.\n",
    "\n",
    "That's all for the set up. How do we actually populate the table?"
   ]
  },
  {
   "cell_type": "code",
   "execution_count": 266,
   "metadata": {
    "collapsed": true
   },
   "outputs": [],
   "source": [
    "if weight > i:\n",
    "    table[i, j] = table[i, j-1]"
   ]
  },
  {
   "cell_type": "markdown",
   "metadata": {},
   "source": [
    "What's going on here? Since each row index represents the capacity for that row, if the `weight` of our current item is bigger than the index we can't fit it in the backpack. If that's the case, our best action is to just take the same item (or items) we had at this level of capacity before even considering this item. We get that value from the value in the same row one column to the left.\n",
    "\n",
    "What if we could fit the item in the backpack?"
   ]
  },
  {
   "cell_type": "code",
   "execution_count": 268,
   "metadata": {
    "collapsed": false
   },
   "outputs": [],
   "source": [
    "else:\n",
    "    table[i, j] = max(table[i, j-1], table[i-weight,j-1] + value)"
   ]
  },
  {
   "cell_type": "markdown",
   "metadata": {},
   "source": [
    "If we can fit the item, do we want to take it? Possibly. We want to take the new item if we'd have higher value at this current level of capacity by taking it than not taking it. So, how do we assess that? We've already seen that the `table[i, j-1]` represents the best value at this capacity with the previously seen items.\n",
    "\n",
    "What does `table[i-weight,j-1] + value` really represent? `table[i-weight,j-1]` is the best value, before looking at the current item, at a capacity level just small enough for us to hold this new item."
   ]
  },
  {
   "cell_type": "markdown",
   "metadata": {},
   "source": [
    "To understand how this works, imagine we're looking at the second item in our example (`j=2`), with value 4 and weight 3.\n",
    "\n",
    "We've filled in our table for the first item, with 0 value at capacity less than its weight and 8 value once we can hold it. This is what our table looks like."
   ]
  },
  {
   "cell_type": "code",
   "execution_count": 144,
   "metadata": {
    "collapsed": false,
    "scrolled": true
   },
   "outputs": [
    {
     "data": {
      "text/plain": [
       "array([[ 0.,  0.,  0.,  0.,  0.],\n",
       "       [ 0.,  0.,  0.,  0.,  0.],\n",
       "       [ 0.,  0.,  0.,  0.,  0.],\n",
       "       [ 0.,  0.,  0.,  0.,  0.],\n",
       "       [ 0.,  8.,  0.,  0.,  0.],\n",
       "       [ 0.,  8.,  0.,  0.,  0.],\n",
       "       [ 0.,  8.,  0.,  0.,  0.],\n",
       "       [ 0.,  8.,  0.,  0.,  0.],\n",
       "       [ 0.,  8.,  0.,  0.,  0.],\n",
       "       [ 0.,  8.,  0.,  0.,  0.],\n",
       "       [ 0.,  8.,  0.,  0.,  0.],\n",
       "       [ 0.,  8.,  0.,  0.,  0.]])"
      ]
     },
     "execution_count": 144,
     "metadata": {},
     "output_type": "execute_result"
    }
   ],
   "source": [
    "intermediate_tables[10]"
   ]
  },
  {
   "cell_type": "markdown",
   "metadata": {},
   "source": [
    "When `i < 3`, we clearly can't do better than the best value we had from this row looking at the first item (`table[i,1]`).\n",
    "\n",
    "When `i = 3`, we can now possibly take the 2nd item. Our best value from the first item in this row is `table[3,1]`, which equals 0 since we couldn't fit the item. If we made room to take this new item, we'd need to use 3 capacity up. \n",
    "\n",
    "\n",
    "So our combined value would be the value at `table[3-3,1]` + the value of this new item. `table[0,1]` is 0, the new value is 4, so our best value when looking at the 2nd item is now `table[3,2]` is 4. Our table now looks like this:"
   ]
  },
  {
   "cell_type": "code",
   "execution_count": 132,
   "metadata": {
    "collapsed": false,
    "scrolled": true
   },
   "outputs": [
    {
     "data": {
      "text/plain": [
       "array([[ 0.,  0.,  0.,  0.,  0.],\n",
       "       [ 0.,  0.,  0.,  0.,  0.],\n",
       "       [ 0.,  0.,  0.,  0.,  0.],\n",
       "       [ 0.,  0.,  4.,  0.,  0.],\n",
       "       [ 0.,  8.,  0.,  0.,  0.],\n",
       "       [ 0.,  8.,  0.,  0.,  0.],\n",
       "       [ 0.,  8.,  0.,  0.,  0.],\n",
       "       [ 0.,  8.,  0.,  0.,  0.],\n",
       "       [ 0.,  8.,  0.,  0.,  0.],\n",
       "       [ 0.,  8.,  0.,  0.,  0.],\n",
       "       [ 0.,  8.,  0.,  0.,  0.],\n",
       "       [ 0.,  8.,  0.,  0.,  0.]])"
      ]
     },
     "execution_count": 132,
     "metadata": {},
     "output_type": "execute_result"
    }
   ],
   "source": [
    "intermediate_tables[13]"
   ]
  },
  {
   "cell_type": "markdown",
   "metadata": {},
   "source": [
    "When `i = 4`, we can either take `table[4,1]` or `table[4-3,1]` + the value of item 2. In this case, `table[4,1] = 8` and `table[4-3,1] + value` = 4, so we take the first item instead of the second item, giving us this table:"
   ]
  },
  {
   "cell_type": "code",
   "execution_count": 146,
   "metadata": {
    "collapsed": false
   },
   "outputs": [
    {
     "data": {
      "text/plain": [
       "array([[ 0.,  0.,  0.,  0.,  0.],\n",
       "       [ 0.,  0.,  0.,  0.,  0.],\n",
       "       [ 0.,  0.,  0.,  0.,  0.],\n",
       "       [ 0.,  0.,  4.,  0.,  0.],\n",
       "       [ 0.,  8.,  8.,  0.,  0.],\n",
       "       [ 0.,  8.,  0.,  0.,  0.],\n",
       "       [ 0.,  8.,  0.,  0.,  0.],\n",
       "       [ 0.,  8.,  0.,  0.,  0.],\n",
       "       [ 0.,  8.,  0.,  0.,  0.],\n",
       "       [ 0.,  8.,  0.,  0.,  0.],\n",
       "       [ 0.,  8.,  0.,  0.,  0.],\n",
       "       [ 0.,  8.,  0.,  0.,  0.]])"
      ]
     },
     "execution_count": 146,
     "metadata": {},
     "output_type": "execute_result"
    }
   ],
   "source": [
    "intermediate_tables[14]"
   ]
  },
  {
   "cell_type": "markdown",
   "metadata": {},
   "source": [
    "As we move through the loop for this item (with increasing capacity size), we continue doing this same assessment and updating our table. After looping through two of the items, we have:"
   ]
  },
  {
   "cell_type": "code",
   "execution_count": 147,
   "metadata": {
    "collapsed": false
   },
   "outputs": [
    {
     "data": {
      "text/plain": [
       "array([[  0.,   0.,   0.,   0.,   0.],\n",
       "       [  0.,   0.,   0.,   0.,   0.],\n",
       "       [  0.,   0.,   0.,   0.,   0.],\n",
       "       [  0.,   0.,   4.,   0.,   0.],\n",
       "       [  0.,   8.,   8.,   0.,   0.],\n",
       "       [  0.,   8.,   8.,   0.,   0.],\n",
       "       [  0.,   8.,   8.,   0.,   0.],\n",
       "       [  0.,   8.,  12.,   0.,   0.],\n",
       "       [  0.,   8.,  12.,   0.,   0.],\n",
       "       [  0.,   8.,  12.,   0.,   0.],\n",
       "       [  0.,   8.,  12.,   0.,   0.],\n",
       "       [  0.,   8.,  12.,   0.,   0.]])"
      ]
     },
     "execution_count": 147,
     "metadata": {},
     "output_type": "execute_result"
    }
   ],
   "source": [
    "intermediate_tables[21]"
   ]
  },
  {
   "cell_type": "markdown",
   "metadata": {
    "collapsed": true
   },
   "source": [
    "At capacity 7 (`i=7`), we were able to choose between `8` (`table[7,1]`) and `table[7-3,1]` (which is 8) `+ 4 = 12` since we had the capacity to fit both items."
   ]
  },
  {
   "cell_type": "markdown",
   "metadata": {},
   "source": [
    "After doing this same assessment for every item, our best value table is in the bottom right corner."
   ]
  },
  {
   "cell_type": "code",
   "execution_count": 269,
   "metadata": {
    "collapsed": false,
    "scrolled": true
   },
   "outputs": [
    {
     "data": {
      "text/plain": [
       "array([[  0.,   0.,   0.,   0.,   0.],\n",
       "       [  0.,   0.,   0.,   0.,   0.],\n",
       "       [  0.,   0.,   0.,   0.,   0.],\n",
       "       [  0.,   0.,   4.,   4.,   4.],\n",
       "       [  0.,   8.,   8.,   8.,   8.],\n",
       "       [  0.,   8.,   8.,  10.,  10.],\n",
       "       [  0.,   8.,   8.,  10.,  10.],\n",
       "       [  0.,   8.,  12.,  12.,  12.],\n",
       "       [  0.,   8.,  12.,  14.,  15.],\n",
       "       [  0.,   8.,  12.,  18.,  18.],\n",
       "       [  0.,   8.,  12.,  18.,  18.],\n",
       "       [  0.,   8.,  12.,  18.,  19.]])"
      ]
     },
     "execution_count": 269,
     "metadata": {},
     "output_type": "execute_result"
    }
   ],
   "source": [
    "table"
   ]
  },
  {
   "cell_type": "markdown",
   "metadata": {},
   "source": [
    "From the table, it's clear the most value we can carry in the knapsack is 19. But which items give us that amount? We can trace back in the table to find out.\n",
    "\n",
    "For each item column (all but the 0th index column in the table), starting from the last column, check if the value in the row corresponding to the capacity we have remaining to use is different in the current column and the one before it. If they aren't, it means the item wasn't chosen, so mark the item as such. If they are different, mark the item as chosen and reduce the remaining capacity by the weight of that item. Due to this, the next iteration of the loop will be checking values in a different row.\n",
    "\n",
    "Repeat until all item columns have been looped over."
   ]
  },
  {
   "cell_type": "code",
   "execution_count": 270,
   "metadata": {
    "collapsed": false,
    "scrolled": false
   },
   "outputs": [
    {
     "data": {
      "text/plain": [
       "array([[ 4,  3],\n",
       "       [15,  8]])"
      ]
     },
     "execution_count": 270,
     "metadata": {},
     "output_type": "execute_result"
    }
   ],
   "source": [
    "items_taken = np.empty(num_items).astype(str)\n",
    "remaining_capacity = capacity\n",
    "\n",
    "for i in xrange(num_items, 0, -1):\n",
    "    if table[remaining_capacity][i] != table[remaining_capacity][i-1]:\n",
    "        items_taken[i-1] = 'Chosen'\n",
    "        weight = value_weight_list[i-1][1]\n",
    "        remaining_capacity = remaining_capacity - weight\n",
    "    else:\n",
    "        items_taken[i-1] = 'Not Chosen'\n",
    "\n",
    "np.array(value_weight_list)[ np.where(items_taken == 'Chosen')[0], :]"
   ]
  },
  {
   "cell_type": "markdown",
   "metadata": {},
   "source": [
    "Looks like I put the second and fourth items in the knapsack to get the most value!"
   ]
  },
  {
   "cell_type": "markdown",
   "metadata": {},
   "source": [
    "# Conclusion"
   ]
  },
  {
   "cell_type": "markdown",
   "metadata": {},
   "source": [
    "It's pretty clear that dynamic programming can help us find answers to problems that we couldn't otherwise solve. While this 4-item knapsack problem was a toy example, optimization problems are everywhere. Whether it's by calculating the optimal truck routes for a fleet of delivery vehicles or determining the optimal emergency-vehicle routes after a snow storm, dynamic programming (and other optimization techniques) can help us get answers to problems that impact people's lives."
   ]
  }
 ],
 "metadata": {
  "kernelspec": {
   "display_name": "Python [Root]",
   "language": "python",
   "name": "Python [Root]"
  },
  "language_info": {
   "codemirror_mode": {
    "name": "ipython",
    "version": 2
   },
   "file_extension": ".py",
   "mimetype": "text/x-python",
   "name": "python",
   "nbconvert_exporter": "python",
   "pygments_lexer": "ipython2",
   "version": "2.7.12"
  }
 },
 "nbformat": 4,
 "nbformat_minor": 0
}
